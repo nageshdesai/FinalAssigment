{
 "cells": [
  {
   "cell_type": "markdown",
   "id": "75356b28-a0b6-43f6-ac1f-f24cf664c333",
   "metadata": {},
   "source": [
    "# Data Science Tools and Ecosystem\n",
    "\n",
    "## Objectives:\n",
    "- List popular languages for Data Science\n",
    "- Introduction to Jupyter Notebook\n",
    "- Introduction to R and R Studio\n",
    "\n",
    "In this notebook, Data Science Tools and Ecosystem are summarized.\n",
    "\n",
    "Some of the popular languages that Data Scientists use are:\n",
    "1. Python\n",
    "2. R\n",
    "3. Java\n",
    "\n",
    "Some of the commonly used libraries used by Data Scientists include:\n",
    "1. Panda\n",
    "2. NumPy\n",
    "3. MatPlotlib\n",
    "\n",
    "<table>\n",
    "  <th>Data Science Tools</th>\n",
    "  <tr><td>Jupyter Lab</td></tr>\n",
    "  <tr><td>R Studio<td></td></tr>\n",
    "  <tr><td>Apache Zeppelin</td></tr>\n",
    "</table>\n",
    "\n",
    "### Below are a few examples of evaluating arithmetic expressions in Python\n",
    "\n",
    "\n",
    "\n",
    "\n",
    "\n"
   ]
  },
  {
   "cell_type": "code",
   "execution_count": 7,
   "id": "000f06d0-a108-4fb8-822b-bdcaac49ede1",
   "metadata": {},
   "outputs": [
    {
     "name": "stdout",
     "output_type": "stream",
     "text": [
      "17\n"
     ]
    }
   ],
   "source": [
    "#This a simple arithmetic expression to mutiply then add integers\n",
    "result = (3*4)+5\n",
    "print(result)"
   ]
  },
  {
   "cell_type": "code",
   "execution_count": 8,
   "id": "95208f94-8acb-4a28-8ac0-afb9501d82ad",
   "metadata": {},
   "outputs": [
    {
     "name": "stdout",
     "output_type": "stream",
     "text": [
      "3.3333333333333335\n"
     ]
    }
   ],
   "source": [
    "#This will convert 200 minutes to hours by dividing by 60\n",
    "hours = 200/60\n",
    "print(hours)"
   ]
  },
  {
   "cell_type": "markdown",
   "id": "63693625-b2b2-49b9-b940-b0e856dac624",
   "metadata": {},
   "source": [
    "## Author: Nagesh Desai"
   ]
  }
 ],
 "metadata": {
  "kernelspec": {
   "display_name": "Python 3 (ipykernel)",
   "language": "python",
   "name": "python3"
  },
  "language_info": {
   "codemirror_mode": {
    "name": "ipython",
    "version": 3
   },
   "file_extension": ".py",
   "mimetype": "text/x-python",
   "name": "python",
   "nbconvert_exporter": "python",
   "pygments_lexer": "ipython3",
   "version": "3.11.7"
  }
 },
 "nbformat": 4,
 "nbformat_minor": 5
}
